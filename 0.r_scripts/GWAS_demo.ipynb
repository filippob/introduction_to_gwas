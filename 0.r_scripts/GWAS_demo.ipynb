{
  "nbformat": 4,
  "nbformat_minor": 0,
  "metadata": {
    "colab": {
      "provenance": []
    },
    "kernelspec": {
      "name": "ir",
      "display_name": "R"
    },
    "language_info": {
      "name": "R"
    }
  },
  "cells": [
    {
      "cell_type": "code",
      "source": [
        "install.packages(\"qqman\")\n",
        "install.packages(\"rrBLUP\")"
      ],
      "metadata": {
        "id": "AA2YQIk6j6Nw"
      },
      "execution_count": null,
      "outputs": []
    },
    {
      "cell_type": "code",
      "execution_count": null,
      "metadata": {
        "id": "YFjKTCchju5q"
      },
      "outputs": [],
      "source": [
        "# # A first GWAS demonstration\n",
        "library(\"qqman\")\n",
        "library(\"rrBLUP\")"
      ]
    },
    {
      "cell_type": "code",
      "source": [
        "# Let's set a basefolder to be able to read in data from external files in a platform-independent way:\n",
        "basefolder = \"/content\""
      ],
      "metadata": {
        "id": "vrVaqzVWj_s4"
      },
      "execution_count": null,
      "outputs": []
    },
    {
      "cell_type": "markdown",
      "source": [
        "---\n",
        "\n",
        "## SECTION I: READ IN GENOTYPE AND PHENOTYPE DATA\n",
        "\n",
        "### 1 Genotypes\n",
        "\n",
        "#### Let's read an example genotype data file:"
      ],
      "metadata": {
        "id": "zUQJSV8wkT43"
      }
    },
    {
      "cell_type": "code",
      "source": [
        "## Genotypes\n",
        "genotypes <- read.csv(file.path(basefolder, \"example_data/genotypes_demo.csv\"), header = TRUE, check.names = FALSE)\n",
        "str(genotypes) ## str() displays the internal structure of an R object"
      ],
      "metadata": {
        "collapsed": true,
        "id": "_hmbIwFokU1O"
      },
      "execution_count": null,
      "outputs": []
    },
    {
      "cell_type": "code",
      "source": [
        "dim(genotypes) # 187 individuals genotypes with 3500 SNP\n",
        "\n",
        "genotypes[1:5, 1:5] # 0, 1, 2, -9 coding\n",
        "unique(unlist(genotypes))"
      ],
      "metadata": {
        "id": "GpiwoG8_ktS9"
      },
      "execution_count": null,
      "outputs": []
    },
    {
      "cell_type": "markdown",
      "source": [
        "#### Together with genotype data (SNP genotypes for each sample), we usually need also a file with information of position (chromosome, bps) for each SNP (**map file**)"
      ],
      "metadata": {
        "id": "gJUa9AAVkzvH"
      }
    },
    {
      "cell_type": "code",
      "source": [
        "## Marker map - chromosome and location for each SNP\n",
        "map <- read.csv(file.path(basefolder, \"example_data/map_demo.csv\"), header = TRUE, check.names = FALSE)\n",
        "str(map)\n",
        "\n",
        "head(map)\n",
        "unique(map$chrom)"
      ],
      "metadata": {
        "id": "f9ycgnNeku_F"
      },
      "execution_count": null,
      "outputs": []
    },
    {
      "cell_type": "markdown",
      "source": [
        "### 2 Phenotypes"
      ],
      "metadata": {
        "id": "lODcJjI1k9Vb"
      }
    },
    {
      "cell_type": "code",
      "source": [
        "## Phenotype data\n",
        "phenotypes <- read.csv(file.path(basefolder, \"example_data/phenotypes_demo.csv\"), header = TRUE, check.names = FALSE)\n",
        "str(phenotypes) # Phenotypes for 363 individuals and 4 traits.\n",
        "head(phenotypes)"
      ],
      "metadata": {
        "id": "m0TguGypk8oN"
      },
      "execution_count": null,
      "outputs": []
    },
    {
      "cell_type": "code",
      "source": [
        "## Check if ID order is the same in the genotypes and phenotypes data frames\n",
        "rownames(genotypes) == phenotypes$Name # all ID's match\n",
        "sum(rownames(genotypes) != phenotypes$Name) ## count the n. of mismatches\n",
        "any(rownames(genotypes) != phenotypes$Names) ## is at least one of the logical values true?"
      ],
      "metadata": {
        "id": "5hesl79ElDGM"
      },
      "execution_count": null,
      "outputs": []
    },
    {
      "cell_type": "markdown",
      "source": [
        "---\n",
        "## SECTION II: RECODE SNP CALLS FOR rrBLUP & FILTER INDIVIDUALS AND SNP"
      ],
      "metadata": {
        "id": "zQj3gdb6lIH-"
      }
    },
    {
      "cell_type": "code",
      "source": [
        "genotypes <- as.matrix(genotypes)\n",
        "genotypes[which(genotypes == -9)] <- NA    # replace -9 by NA, and ...\n",
        "genotypes <- genotypes - 1                 # convert to -1, 0, 1 SNP coding\n",
        "genotypes[1:5, 1:5]"
      ],
      "metadata": {
        "id": "rOPh7CV2lGRS"
      },
      "execution_count": null,
      "outputs": []
    },
    {
      "cell_type": "markdown",
      "source": [
        "### 1. Remove individuals with more than 20% missing marker data (80% of SNP calls are present)\n",
        "\n",
        "A high fraction of missing markers might indicate a low genotyping quality."
      ],
      "metadata": {
        "id": "rpIydlPXlP6U"
      }
    },
    {
      "cell_type": "code",
      "source": [
        "rm_ind <- as.matrix(rowSums(is.na(genotypes)) / ncol(genotypes)) # fraction of NA per individual\n",
        "rm_ind <- 1 - rm_ind # fraction of SNP called per individual\n",
        "\n",
        "length(which(rm_ind < 0.8)) # number of individuals with less than 80% SNP calls (at least 20% NA)\n",
        "rm_ind <- (which(rm_ind < 0.8))"
      ],
      "metadata": {
        "id": "VV0AYyTjlOnz"
      },
      "execution_count": null,
      "outputs": []
    },
    {
      "cell_type": "code",
      "source": [
        "### Remove individuals from the genotypes AND the phenotypes object.\n",
        "dim(genotypes)\n",
        "dim(phenotypes)\n",
        "if (length(rm_ind) > 0) genotypes <- genotypes[-rm_ind, ]\n",
        "if (length(rm_ind) > 0) phenotypes <- phenotypes[-rm_ind, ]\n",
        "dim(genotypes) # Individuals with too many missing markers have been removed\n",
        "dim(phenotypes) # Individuals with too many missing markers have been removed"
      ],
      "metadata": {
        "id": "LXaGkYhslZDX"
      },
      "execution_count": null,
      "outputs": []
    },
    {
      "cell_type": "markdown",
      "source": [
        "### 2. Remove SNP markers with more than 15% missing SNP calls (at least 15% NA per marker)"
      ],
      "metadata": {
        "id": "4qxs4Ru6lc-w"
      }
    },
    {
      "cell_type": "code",
      "source": [
        "rm_snp <- as.matrix(colSums(is.na(genotypes)) / nrow(genotypes))\n",
        "rm_snp <- 1 - rm_snp\n",
        "length(which(rm_snp < 0.85)) # number of SNP with less than 85% SNP calls.\n",
        "rm_snp <- (which(rm_snp < 0.85))"
      ],
      "metadata": {
        "id": "iX0IrXB8lb6H"
      },
      "execution_count": null,
      "outputs": []
    },
    {
      "cell_type": "code",
      "source": [
        "### Remove SNP from the genotypes AND the map object.\n",
        "dim(genotypes)\n",
        "dim(map)\n",
        "if (length(rm_snp) > 0) genotypes <- genotypes[ , -rm_snp]\n",
        "if (length(rm_snp) > 0) map <- map[-rm_snp, ]\n",
        "dim(genotypes) # SNP with too many missing calls have been removed\n",
        "dim(map) # SNP with too many missing calls have been removed"
      ],
      "metadata": {
        "id": "V_JCqwSclj0_"
      },
      "execution_count": null,
      "outputs": []
    },
    {
      "cell_type": "markdown",
      "source": [
        "3. Remove SNP markers falling below an MAF threshold value"
      ],
      "metadata": {
        "id": "YGmFNYLnlrnp"
      }
    },
    {
      "cell_type": "code",
      "source": [
        "maf <- 0.03\n",
        "maf_snp <- genotypes + 1  # reconvert to 0, 1, 2 coding to calculate allele frequency\n",
        "\n",
        "maf_snp[1:5, 1:5]\n",
        "\n",
        "maf_snp <- as.matrix(colSums(maf_snp, na.rm = TRUE) / (2 * nrow(maf_snp)))\n",
        "head(maf_snp)\n",
        "\n",
        "range(maf_snp) # range of allele frequencies"
      ],
      "metadata": {
        "collapsed": true,
        "id": "C71dBtYPlm2X"
      },
      "execution_count": null,
      "outputs": []
    },
    {
      "cell_type": "code",
      "source": [
        "hist(maf_snp, breaks = 200)"
      ],
      "metadata": {
        "id": "UPVLum6SnMv7"
      },
      "execution_count": null,
      "outputs": []
    },
    {
      "cell_type": "code",
      "source": [
        "maf_A <- which(maf_snp < maf)\n",
        "maf_B <- which(maf_snp > (1 - maf))\n",
        "rm_snp_maf <- c(maf_A, maf_B)"
      ],
      "metadata": {
        "id": "IwInXxZFnSrN"
      },
      "execution_count": null,
      "outputs": []
    },
    {
      "cell_type": "code",
      "source": [
        "### Remove SNP from the genotypes AND the map object.\n",
        "dim(genotypes)\n",
        "dim(map)\n",
        "if (length(rm_snp_maf) > 0) genotypes <- genotypes[ , -rm_snp_maf]\n",
        "if (length(rm_snp_maf) > 0) map <- map[-rm_snp_maf, ]\n",
        "dim(genotypes)\n",
        "dim(map)"
      ],
      "metadata": {
        "id": "jxMMMK7FnVIG"
      },
      "execution_count": null,
      "outputs": []
    },
    {
      "cell_type": "markdown",
      "source": [
        "## 3.2 ALTERNATIVE TO MAF - minor allele count\n",
        "\n",
        "- Before we used a $3\\%$ threshold for MAF: with 178 samples, this implies a minimum of 11 copies of the minor allele in the sampled population.\n",
        "- We can be more specific and set the minimum n. of alleles we want to have for our GWAS analysis:"
      ],
      "metadata": {
        "id": "hct5NEYlnY3Q"
      }
    },
    {
      "cell_type": "code",
      "source": [
        "mac <- 30 # We want the minor allele to be present with at least 30 copies in the population.\n",
        "mac_snp <- genotypes + 1\n",
        "mac_snp <- as.matrix(colSums(mac_snp, na.rm = TRUE)) # count allele copies\n",
        "\n",
        "range(mac_snp) ## n_samples x 2 is the maximum value possible (e.g. 178 x 2 = 356)"
      ],
      "metadata": {
        "id": "hZ3CVS_gnbig"
      },
      "execution_count": null,
      "outputs": []
    },
    {
      "cell_type": "code",
      "source": [
        "hist(mac_snp, breaks = 200)"
      ],
      "metadata": {
        "id": "3uZC4UHqngQH"
      },
      "execution_count": null,
      "outputs": []
    },
    {
      "cell_type": "code",
      "source": [
        "mac_A <- which(mac_snp < mac)\n",
        "mac_B <- which(mac_snp > (2 * nrow(genotypes) - mac))\n",
        "rm_snp_mac <- c(mac_A, mac_B)\n",
        "\n",
        "### Remove SNP from the genotypes AND the map object.\n",
        "dim(genotypes)\n",
        "dim(map)"
      ],
      "metadata": {
        "id": "tMaBFULfnkPf"
      },
      "execution_count": null,
      "outputs": []
    },
    {
      "cell_type": "code",
      "source": [
        "if (length(rm_snp_mac) > 0) genotypes <- genotypes[ , -rm_snp_mac]\n",
        "if (length(rm_snp_mac) > 0) map <- map[-rm_snp_mac, ]\n",
        "dim(genotypes)\n",
        "dim(map)"
      ],
      "metadata": {
        "id": "q3OkTwG5nm8e"
      },
      "execution_count": null,
      "outputs": []
    },
    {
      "cell_type": "markdown",
      "source": [
        "---\n",
        "## SECTION III: IMPUTE MISSING MARKERS AND GENERATE THE GENOMIC RELATIONSHIP MATRIX\n",
        "\n",
        "When we use **rrBLUP to generate the genomic relationship matrix**, we can:\n",
        "- filter for MAF,\n",
        "- remove markers with too many missing calls,\n",
        "- choose between two imputation methods; we choose a simple mean imputation here.\n",
        "\n",
        "Note: we included NA's (all individuals) in the calculation of allele frequencies. rrBLUP\n",
        "only includes individuals with successful calls in the calculation of allele frequencies\n",
        "(NA's are excluded). This can result in different marker numbers after filtering."
      ],
      "metadata": {
        "id": "c_WnMC04nplT"
      }
    },
    {
      "cell_type": "code",
      "source": [
        "grm <- rrBLUP::A.mat(genotypes,\n",
        "                     min.MAF = 0.05,\n",
        "                     max.missing = 1,\n",
        "                     impute.method = \"mean\",\n",
        "                     return.imputed = TRUE)"
      ],
      "metadata": {
        "id": "emhFSh7PnvB1"
      },
      "execution_count": null,
      "outputs": []
    },
    {
      "cell_type": "code",
      "source": [
        "g_mat_imputed <- grm$imputed # SNP matrix with imputed missing values\n",
        "grm <- grm$A # genomic relationship matrix\n",
        "\n",
        "genotypes[1:5, 1:5]     # pre imputation, and ...\n",
        "g_mat_imputed[1:5, 1:5] # post imputation.\n",
        "dim(genotypes)\n",
        "dim(g_mat_imputed)"
      ],
      "metadata": {
        "id": "7uon_nI_n18W"
      },
      "execution_count": null,
      "outputs": []
    },
    {
      "cell_type": "code",
      "source": [
        "### we can view the genomic relationship / population substructure using a heatmap\n",
        "heatmap(grm)"
      ],
      "metadata": {
        "id": "BIPkIAwDn4uX"
      },
      "execution_count": null,
      "outputs": []
    },
    {
      "cell_type": "markdown",
      "source": [
        "---\n",
        "\n",
        "## SECTION IV:  RUN A GWAS AND GENERATE A MANHATTAN PLOT TO IDENTIFY POTENTIAL PEAKS\n",
        "\n",
        "We pick one phenotype from our dataset and use it to run the GWAS:"
      ],
      "metadata": {
        "id": "Ob0bgk65n8C3"
      }
    },
    {
      "cell_type": "code",
      "source": [
        "head(phenotypes)\n",
        "\n",
        "### Phenotypes data frame for GWAS in rrBLUP\n",
        "phe_gwas <- data.frame(id = phenotypes$Name, fruit_shape = phenotypes$fruit_shape)\n",
        "head(phe_gwas)"
      ],
      "metadata": {
        "id": "sX7CJB39n9wV"
      },
      "execution_count": null,
      "outputs": []
    },
    {
      "cell_type": "code",
      "source": [
        "### Genotypes data frame for GWAS in rrBLUP\n",
        "\n",
        "### select SNPs that were not filtered out\n",
        "vec <- map$marker %in% colnames(g_mat_imputed)\n",
        "map_filtered = map[vec,]\n",
        "\n",
        "geno_gwas <- data.frame(map_filtered, t(g_mat_imputed))\n",
        "geno_gwas[1:5, 1:6]"
      ],
      "metadata": {
        "id": "QtaI2iRAoD4x"
      },
      "execution_count": null,
      "outputs": []
    },
    {
      "cell_type": "markdown",
      "source": [
        "### 1. Run GWAS"
      ],
      "metadata": {
        "id": "Lam9Jq-yoJFA"
      }
    },
    {
      "cell_type": "code",
      "source": [
        "time_rrBLUP <- Sys.time()                          # measure computation time\n",
        "gwas_rrblup <- rrBLUP::GWAS(pheno = phe_gwas,\n",
        "                            geno = geno_gwas,\n",
        "                            K = grm,               # A.mat generated by default if K not provided.\n",
        "                            fixed = NULL,          # fixed effects?\n",
        "                            plot = FALSE)\n",
        "time_rrBLUP <- Sys.time() - time_rrBLUP\n",
        "\n",
        "time_rrBLUP"
      ],
      "metadata": {
        "id": "9la4V8mYoGt8"
      },
      "execution_count": null,
      "outputs": []
    },
    {
      "cell_type": "code",
      "source": [
        "## Set threshold for Bonferroni correction\n",
        "bonf <- -log10(0.05 / nrow(geno_gwas))\n",
        "print(bonf)"
      ],
      "metadata": {
        "id": "djb52RtFoMvw"
      },
      "execution_count": null,
      "outputs": []
    },
    {
      "cell_type": "code",
      "source": [
        "gwas_res <- gwas_rrblup\n",
        "names(gwas_res) <- c(\"SNP\",\"CHR\",\"BP\",\"P\")\n",
        "head(gwas_res)"
      ],
      "metadata": {
        "id": "u_SeRmC4oQOo"
      },
      "execution_count": null,
      "outputs": []
    },
    {
      "cell_type": "code",
      "source": [
        "## rrBLUP calculates -log10(p) values. These are converted into p-values.\n",
        "gwas_res$P <- 10^((-gwas_res$P))\n",
        "head(gwas_res)"
      ],
      "metadata": {
        "id": "0pgwModJoSay"
      },
      "execution_count": null,
      "outputs": []
    },
    {
      "cell_type": "code",
      "source": [
        "## Manhattan plot of -log10(p)-values\n",
        "qqman::manhattan(gwas_res,\n",
        "                 suggestiveline = FALSE,\n",
        "                 col = c(\"skyblue\",\"blue\"),\n",
        "                 genomewideline = bonf,\n",
        "                 logp = TRUE)"
      ],
      "metadata": {
        "id": "5WAsP0uGoVaY"
      },
      "execution_count": null,
      "outputs": []
    },
    {
      "cell_type": "code",
      "source": [
        "## qq-plot\n",
        "qqman::qq(gwas_res$P)"
      ],
      "metadata": {
        "id": "P7ITeXAqoX1w"
      },
      "execution_count": null,
      "outputs": []
    },
    {
      "cell_type": "markdown",
      "source": [
        "### 2. GWAS control scenario: no correction for population structure\n",
        "\n",
        "!!Mind: rrBLUP will automatically calculate the GRM if no relationship matrix is provided.\n",
        "We can enforce a regression without correction for population structure if we provide a diagonal matrix instead of the GRM.\n"
      ],
      "metadata": {
        "id": "rAGT6X3wojv2"
      }
    },
    {
      "cell_type": "code",
      "source": [
        "relMat_diag <- diag(nrow(grm))\n",
        "colnames(relMat_diag) <- rownames(relMat_diag) <- colnames(grm)\n",
        "str(relMat_diag)"
      ],
      "metadata": {
        "id": "UFLgI4l1onKT"
      },
      "execution_count": null,
      "outputs": []
    },
    {
      "cell_type": "code",
      "source": [
        "heatmap(relMat_diag)"
      ],
      "metadata": {
        "id": "Z6Be1FmEotNq"
      },
      "execution_count": null,
      "outputs": []
    },
    {
      "cell_type": "code",
      "source": [
        "gwas_rrblup_2 <- rrBLUP::GWAS(pheno = phe_gwas,\n",
        "                              geno = geno_gwas,\n",
        "                              K = relMat_diag,       # Assumption: unrelated individuals.\n",
        "                              fixed = NULL,          # fixed effects?\n",
        "                              plot = FALSE)"
      ],
      "metadata": {
        "id": "kfWjRlfHowuG"
      },
      "execution_count": null,
      "outputs": []
    },
    {
      "cell_type": "code",
      "source": [
        "gwas_res_2 <- gwas_rrblup_2\n",
        "names(gwas_res_2) <- c(\"SNP\",\"CHR\",\"BP\",\"P\")"
      ],
      "metadata": {
        "id": "7bs6rCjDozd5"
      },
      "execution_count": null,
      "outputs": []
    },
    {
      "cell_type": "code",
      "source": [
        "## rrBLUP calculates -log10(p) values. These are converted into p-values.\n",
        "gwas_res_2$P <- 10^((-gwas_res_2$P))"
      ],
      "metadata": {
        "id": "IuwGgVTto15o"
      },
      "execution_count": null,
      "outputs": []
    },
    {
      "cell_type": "code",
      "source": [
        "## Manhattan plot of -log10(p)-values\n",
        "qqman::manhattan(gwas_res_2,\n",
        "          suggestiveline = FALSE,\n",
        "          col = c(\"skyblue\",\"blue\"),\n",
        "          genomewideline = bonf,\n",
        "          logp = TRUE)"
      ],
      "metadata": {
        "id": "meJ2LikNo4EK"
      },
      "execution_count": null,
      "outputs": []
    },
    {
      "cell_type": "code",
      "source": [
        "## qq-plot\n",
        "qqman::qq(gwas_res_2$P)"
      ],
      "metadata": {
        "id": "keEtKkvFo6gT"
      },
      "execution_count": null,
      "outputs": []
    },
    {
      "cell_type": "markdown",
      "source": [
        "## SECTION V: DO IT YOURSELF\n",
        "\n",
        "- `map_fruit_sim.csv`\n",
        "- `genotypes_fruit_sim.csv`\n",
        "- `phenotypes_fruit_sim.csv`"
      ],
      "metadata": {
        "id": "TirtfHbopFHp"
      }
    },
    {
      "cell_type": "code",
      "source": [
        " #### Read the data\n",
        "\n",
        "# +\n",
        "# genotypes <-\n",
        "# map <-\n",
        "# phenotypes <-\n",
        "# -"
      ],
      "metadata": {
        "id": "e47ggrZfpHOW"
      },
      "execution_count": null,
      "outputs": []
    },
    {
      "cell_type": "code",
      "source": [
        "#### Explore and describe\n",
        "#\n",
        "# - how many?\n",
        "# - what?\n",
        "# - have a look?"
      ],
      "metadata": {
        "id": "j51R9umJpKS7"
      },
      "execution_count": null,
      "outputs": []
    },
    {
      "cell_type": "code",
      "source": [
        "print(paste(\"N. of genotyped samples:\", nrow(genotypes)))\n",
        "print(paste(\"N. of phenotyped samples:\", nrow(phenotypes)))\n",
        "print(paste(\"N. of SNPs:\", nrow(map)))"
      ],
      "metadata": {
        "id": "YHP3ilNRpNsg"
      },
      "execution_count": null,
      "outputs": []
    },
    {
      "cell_type": "code",
      "source": [
        "#### Recode and filter\n",
        "\n",
        "# +\n",
        "## your code\n",
        "# -"
      ],
      "metadata": {
        "id": "XP7WuosDpSBJ"
      },
      "execution_count": null,
      "outputs": []
    },
    {
      "cell_type": "code",
      "source": [
        "#### Impute missing genotypes\n",
        "\n",
        "# +\n",
        "## your code\n",
        "# -"
      ],
      "metadata": {
        "id": "z_jMx6K9pVQG"
      },
      "execution_count": null,
      "outputs": []
    },
    {
      "cell_type": "code",
      "source": [
        "# #### Run GWAS\n",
        "\n",
        "# +\n",
        "## your code\n",
        "# -\n"
      ],
      "metadata": {
        "id": "KeVkq1XWpd9M"
      },
      "execution_count": null,
      "outputs": []
    },
    {
      "cell_type": "code",
      "source": [
        "# #### Evaluate results\n",
        "\n",
        "# +\n",
        "## your code"
      ],
      "metadata": {
        "id": "NG8G-uj0pfRu"
      },
      "execution_count": null,
      "outputs": []
    }
  ]
}