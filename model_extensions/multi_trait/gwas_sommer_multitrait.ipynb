{
  "nbformat": 4,
  "nbformat_minor": 0,
  "metadata": {
    "colab": {
      "provenance": []
    },
    "kernelspec": {
      "name": "ir",
      "display_name": "R"
    },
    "language_info": {
      "name": "R"
    }
  },
  "cells": [
    {
      "cell_type": "markdown",
      "source": [
        "# Multiple-trait models for GWAS"
      ],
      "metadata": {
        "id": "BzPQScY5vp3i"
      }
    },
    {
      "cell_type": "code",
      "source": [
        "## You need to reinstall the required R packages each time you reinitiate an interactive sessino\n",
        "\n",
        "#install.packages(\"qqman\")\n",
        "#install.packages(\"sommer\")"
      ],
      "metadata": {
        "id": "j3zNvmHoJeJ4"
      },
      "execution_count": null,
      "outputs": []
    },
    {
      "cell_type": "code",
      "execution_count": null,
      "metadata": {
        "id": "4NUHvDNXIxOh",
        "collapsed": true
      },
      "outputs": [],
      "source": [
        "library(\"qqman\")\n",
        "library(\"sommer\")\n",
        "library(\"tidyverse\")\n",
        "library(\"data.table\")"
      ]
    },
    {
      "cell_type": "code",
      "source": [
        "trim <- function (x) gsub(\"^\\\\s+|\\\\s+$\", \"\", x)\n",
        "print(\"GWAS using the sommer package\")"
      ],
      "metadata": {
        "id": "TJzGyW42KSje"
      },
      "execution_count": null,
      "outputs": []
    },
    {
      "cell_type": "markdown",
      "source": [
        "### Example data\n",
        "\n",
        "Simulated fruit breeding data: [Covarrubias-Pazaran G (2016) Genome assisted prediction of quantitative traits using the R package sommer. PLoS ONE 11(6): doi:10.1371/journal.pone.0156744](https://journals.plos.org/plosone/article?id=10.1371/journal.pone.0156744)"
      ],
      "metadata": {
        "id": "DGreqBcYwqa_"
      }
    },
    {
      "cell_type": "code",
      "source": [
        "data(DT_cpdata)\n",
        "DT <- na.omit(DT_cpdata) ## phenotypes\n",
        "GT <- GT_cpdata[,sample(1:ncol(GT_cpdata), 500)] ## genotype data: subsample markers\n",
        "MP <- MP_cpdata ## marker map file"
      ],
      "metadata": {
        "id": "YnAIThlWKUwE"
      },
      "execution_count": null,
      "outputs": []
    },
    {
      "cell_type": "markdown",
      "source": [
        "We have a bunch of phenotypes (and covariables) on 290 fruit trees:"
      ],
      "metadata": {
        "id": "kZeYwymQwytG"
      }
    },
    {
      "cell_type": "code",
      "source": [
        "print(nrow(DT)) ## n. of samples\n",
        "head(DT)"
      ],
      "metadata": {
        "id": "cd0U8uwWLZjx"
      },
      "execution_count": null,
      "outputs": []
    },
    {
      "cell_type": "code",
      "source": [
        "print(nrow(GT)) ## n. of samples\n",
        "print(ncol(GT)) ## n. of markers\n",
        "GT[1:8, 1:8]"
      ],
      "metadata": {
        "id": "6eixZa2y0iC1"
      },
      "execution_count": null,
      "outputs": []
    },
    {
      "cell_type": "code",
      "source": [
        "nrow(MP) ## n. of markers\n",
        "head(MP)"
      ],
      "metadata": {
        "id": "kBJYgycj0zN7"
      },
      "execution_count": null,
      "outputs": []
    },
    {
      "cell_type": "markdown",
      "source": [
        "Now we create a kinship matrix from the marker genotype data:"
      ],
      "metadata": {
        "id": "4DoI6DIQ1pJw"
      }
    },
    {
      "cell_type": "code",
      "source": [
        "#### create the variance-covariance matrix\n",
        "A <- A.mat(GT) # additive relationship matrix\n",
        "n <- nrow(DT) # to be used for degrees of freedom\n",
        "k <- 1 # to be used for degrees of freedom (number of levels in fixed effects)"
      ],
      "metadata": {
        "id": "QwP-VCGWKaBg"
      },
      "execution_count": null,
      "outputs": []
    },
    {
      "cell_type": "code",
      "source": [
        "heatmap(A)"
      ],
      "metadata": {
        "id": "YoCw-ccV1uOq"
      },
      "execution_count": null,
      "outputs": []
    },
    {
      "cell_type": "code",
      "source": [
        "mix1 <- GWAS(color~1,\n",
        "  random=~vs(id,Gu=A) + Rowf + Colf,\n",
        "  rcov=~units,\n",
        "  data=DT,\n",
        "  M=GT,\n",
        "  gTerm = \"u:id\",\n",
        "  verbose = FALSE\n",
        ")"
      ],
      "metadata": {
        "id": "yKCia7WivbyH"
      },
      "execution_count": null,
      "outputs": []
    },
    {
      "cell_type": "code",
      "source": [
        "length(mix1$scores)\n",
        "head(mix1$scores) ## (-log_(10)p) for each marker"
      ],
      "metadata": {
        "id": "iEG_dDn9wKlc"
      },
      "execution_count": null,
      "outputs": []
    },
    {
      "cell_type": "code",
      "source": [
        "ms <- as.data.frame(mix1$scores)\n",
        "ms$Locus <- rownames(ms)\n",
        "MP2 <- merge(MP,ms,by=\"Locus\",all.x = TRUE);\n",
        "MP2 <- na.omit(MP2)\n",
        "head(MP2) ## color is the -log(p-value)"
      ],
      "metadata": {
        "id": "83nWZqnnKex-"
      },
      "execution_count": null,
      "outputs": []
    },
    {
      "cell_type": "code",
      "source": [
        "options(repr.plot.width=10, repr.plot.height=6)\n",
        "manhattan(MP2, pch=20,cex=1.5, PVCN = \"color\")"
      ],
      "metadata": {
        "id": "0sCHXvcM65g7"
      },
      "execution_count": null,
      "outputs": []
    },
    {
      "cell_type": "code",
      "source": [
        "## function is deprecated and no longer maintained: it doesn't work any longer with more than one trait!!\n",
        "mix2 <- GWAS(cbind(Yield, Firmness) ~ Rowf + Colf,\n",
        "  random=~vs(id,Gu=A),\n",
        "  rcov=~units,\n",
        "  data=DT,\n",
        "  M=GT,\n",
        "  gTerm = \"u:id\",\n",
        "  verbose = FALSE\n",
        ")"
      ],
      "metadata": {
        "id": "VJBMx2Zd8YlC"
      },
      "execution_count": null,
      "outputs": []
    },
    {
      "cell_type": "markdown",
      "source": [
        "---\n",
        "\n",
        "## Our data"
      ],
      "metadata": {
        "id": "o6DI1vN2oRWc"
      }
    },
    {
      "cell_type": "code",
      "source": [
        "genotype_file = \"/content/rice_imputed.raw\"\n",
        "snp_map = \"/content/rice_imputed.map\"\n",
        "phenotype_file = \"/content/rice_phenotypes_multi.txt\"\n",
        "traits = \"SL,SW\"\n",
        "covariates=\"population\""
      ],
      "metadata": {
        "id": "VCbbs3DKoWKN"
      },
      "execution_count": null,
      "outputs": []
    },
    {
      "cell_type": "code",
      "source": [
        "print(paste(\"genotype file name:\",genotype_file))\n",
        "print(paste(\"SNP map:\",snp_map))\n",
        "print(paste(\"phenotype file name:\",phenotype_file))\n",
        "print(paste(\"trait:\",traits))\n",
        "covariates = if(exists(x = \"covariates\")) covariates else 1\n",
        "print(paste(\"covariates:\",covariates))\n",
        "\n",
        "dataset = basename(genotype_file)"
      ],
      "metadata": {
        "id": "KbkxoiKqo2jO"
      },
      "execution_count": null,
      "outputs": []
    },
    {
      "cell_type": "code",
      "source": [
        "## READING DATA\n",
        "print(\"now reading in the data ...\")\n",
        "### genotypes\n",
        "snp_matrix <- fread(genotype_file, header = TRUE)\n",
        "print(paste(nrow(snp_matrix),\"records read from the genotype file\",sep=\" \"))\n",
        "SNP_INFO <- fread(snp_map)\n",
        "names(SNP_INFO) <- c(\"Chrom\",\"snp\",\"cM\",\"Position\")\n",
        "SNP_INFO$cM <- NULL\n",
        "\n",
        "X <- as.matrix(snp_matrix[,-c(1:6)])\n",
        "colnames(X) <- gsub(\"\\\\_[A-Z]{1}$\",\"\",colnames(X))\n",
        "rownames(X) <- snp_matrix$IID"
      ],
      "metadata": {
        "id": "_FRHJg6ro6l8"
      },
      "execution_count": null,
      "outputs": []
    },
    {
      "cell_type": "code",
      "source": [
        "print(paste(nrow(SNP_INFO),\"SNPs read from the map file\",sep=\" \"))\n",
        "\n",
        "if ((ncol(snp_matrix)-6) != nrow(SNP_INFO)) {\n",
        "\n",
        "  stop(\"!! N. of SNPs in the map file not equal to the number of genotyped SNPs in the genotype file\")\n",
        "\n",
        "} else print(\"N. of SNPs in the map and genotype files is the same: this is correct!!\")"
      ],
      "metadata": {
        "id": "aT9yd2dMpITt"
      },
      "execution_count": null,
      "outputs": []
    },
    {
      "cell_type": "code",
      "source": [
        "### phenotypes\n",
        "phenotypes <- fread(phenotype_file)\n",
        "# phenotypes <- phenotypes[,c(1,3)]\n",
        "print(paste(nrow(phenotypes),\"records read from the phenotype file\",sep=\" \"))\n",
        "\n",
        "phenotypes <- phenotypes[phenotypes$id %in% snp_matrix$IID,]\n",
        "print(paste(nrow(phenotypes),\"records read from the phenotype file after alignment with genotypes\",sep=\" \"))"
      ],
      "metadata": {
        "id": "r391fCfEpL8s"
      },
      "execution_count": null,
      "outputs": []
    },
    {
      "cell_type": "code",
      "source": [
        "## kinship matrix\n",
        "print(\"Calculating the kinship matrix\")\n",
        "K <-A.mat(X)\n",
        "\n",
        "vec <- colnames(K) %in% phenotypes$id\n",
        "K <- K[vec,vec]"
      ],
      "metadata": {
        "id": "KBf-1Y0qpPC9"
      },
      "execution_count": null,
      "outputs": []
    },
    {
      "cell_type": "code",
      "source": [
        "heatmap(K)"
      ],
      "metadata": {
        "collapsed": true,
        "id": "li3jpvMBpR90"
      },
      "execution_count": null,
      "outputs": []
    },
    {
      "cell_type": "markdown",
      "source": [
        "Below, the long file format for the multiple-trai analysis (further down):"
      ],
      "metadata": {
        "id": "OkaI5AKyMC8B"
      }
    },
    {
      "cell_type": "code",
      "source": [
        "pheno <- stackTrait(phenotypes, traits = c(\"SL\",\"SW\"))\n",
        "head(pheno$long)"
      ],
      "metadata": {
        "id": "Gu0u4qRrpY7V"
      },
      "execution_count": null,
      "outputs": []
    },
    {
      "cell_type": "markdown",
      "source": [
        "## GBLUP\n",
        "\n",
        "### Single-trait\n",
        "\n",
        "Let's first try a single trait GWAS on the phenotype SL (seed length)"
      ],
      "metadata": {
        "id": "GVh3xIdfqnII"
      }
    },
    {
      "cell_type": "code",
      "source": [
        "gblup1 <- mmes( SL ~ population,\n",
        "              random=~vsm(ism(id),Gu=K),\n",
        "              rcov=~units, nIters=10,\n",
        "              data=phenotypes)"
      ],
      "metadata": {
        "id": "C3MCvNod5XXm"
      },
      "execution_count": null,
      "outputs": []
    },
    {
      "cell_type": "markdown",
      "source": [
        "From GBLUP we can get also the **variance components** and the **estimated heritability** for the trait:"
      ],
      "metadata": {
        "id": "GN2APUS0AjzW"
      }
    },
    {
      "cell_type": "code",
      "source": [
        "summary(gblup1)$varcomp"
      ],
      "metadata": {
        "id": "7bbMwOvS5tzZ"
      },
      "execution_count": null,
      "outputs": []
    },
    {
      "cell_type": "code",
      "source": [
        "vpredict(gblup1, h2 ~ (V1) / ( V1+V2) )"
      ],
      "metadata": {
        "id": "nEyuqVIH6IC4"
      },
      "execution_count": null,
      "outputs": []
    },
    {
      "cell_type": "markdown",
      "source": [
        "No we need to retrieve **marker effects from genetic effects**: remember, we used a GBLUP model where the marker information was condensed in a (n x n) kinship matrix $\\rightarrow$ one overall genetic value per individual (in this case, rice accessions)"
      ],
      "metadata": {
        "id": "_JLuJZaKAt8_"
      }
    },
    {
      "cell_type": "markdown",
      "source": [
        "Basically, we use the following identities:\n",
        "\n",
        "$$\n",
        "\\hat{g} = \\mathbf{X}\\hat{\\beta}\n",
        "$$"
      ],
      "metadata": {
        "id": "HA6TTX8GBSF4"
      }
    },
    {
      "cell_type": "markdown",
      "source": [
        "$$\n",
        "\\hat{\\beta} = \\mathbf{X}'(\\mathbf{X}\\mathbf{X}')^{-1}\\hat{g}\n",
        "$$"
      ],
      "metadata": {
        "id": "82OiYh5QBeYN"
      }
    },
    {
      "cell_type": "markdown",
      "source": [
        "$\\mathbf{XX}'$ is a (n x m) * (m x n) = (n x n) matrix: this can be multiplied with the vector of individual genetic effects $\\hat{g}$ to produce a new (n x 1) vector.\n",
        "\n",
        "When we muliply this by $\\mathbf{X}'$ (m x n), we obtain a vector of marker effects of size (m x 1)"
      ],
      "metadata": {
        "id": "LZO2L-WKE8Vs"
      }
    },
    {
      "cell_type": "markdown",
      "source": [
        "The (n x n) $\\mathbf{XX}'$ matrix is a **kinship matrix** (cross-product of the SNP matrix and its transposed, rescaled by allele frequencies):"
      ],
      "metadata": {
        "id": "Hp2ImGDiFh8k"
      }
    },
    {
      "cell_type": "code",
      "source": [
        "## getting the X'(XX')^-1 matrix\n",
        "Kinv <- solve(K + diag(1e-6, ncol(K), ncol(K))) ## inverse of K\n",
        "XKinv <- t(X)%*%Kinv # t(X) %*% K^-1"
      ],
      "metadata": {
        "id": "hArw_Y2n6X4c"
      },
      "execution_count": null,
      "outputs": []
    },
    {
      "cell_type": "code",
      "source": [
        "dim(XKinv)"
      ],
      "metadata": {
        "id": "-1Amjsn9GAqT"
      },
      "execution_count": null,
      "outputs": []
    },
    {
      "cell_type": "markdown",
      "source": [
        "From GBLUP, we get the individual genetic effects:"
      ],
      "metadata": {
        "id": "PtIbzvYXGVvr"
      }
    },
    {
      "cell_type": "code",
      "source": [
        "## individual genetic effects\n",
        "g <- gblup1$uList$`vsm(ism(id), Gu = K)`"
      ],
      "metadata": {
        "id": "Az4IDnyp8Tm7"
      },
      "execution_count": null,
      "outputs": []
    },
    {
      "cell_type": "code",
      "source": [
        "## 140: one per rice accession\n",
        "dim(g)"
      ],
      "metadata": {
        "id": "wJ2olMJaGNJk"
      },
      "execution_count": null,
      "outputs": []
    },
    {
      "cell_type": "code",
      "source": [
        "# (m, n) x (n)\n",
        "a.from.g <- XKinv %*% g"
      ],
      "metadata": {
        "id": "B0o8fUPU6TZB"
      },
      "execution_count": null,
      "outputs": []
    },
    {
      "cell_type": "code",
      "source": [
        "dim(a.from.g)"
      ],
      "metadata": {
        "id": "fipxAtY1GhqQ"
      },
      "execution_count": null,
      "outputs": []
    },
    {
      "cell_type": "code",
      "source": [
        "head(a.from.g)"
      ],
      "metadata": {
        "id": "IJ-NUKimG8yo"
      },
      "execution_count": null,
      "outputs": []
    },
    {
      "cell_type": "markdown",
      "source": [
        "Now we have the marker effects: to calculate their p-values, we need to calculate first the standard error of these estimated marker effects.\n",
        "\n",
        "We'll need the genetic variance and the individual coefficients:"
      ],
      "metadata": {
        "id": "q1sravPqG_2u"
      }
    },
    {
      "cell_type": "code",
      "source": [
        "## end/start of random effects in results: intercept, population (fixed effects: covariates), then 140 individual genotypes\n",
        "gblup1$partitions"
      ],
      "metadata": {
        "id": "aT7Nk5X-Gj9R"
      },
      "execution_count": null,
      "outputs": []
    },
    {
      "cell_type": "code",
      "source": [
        "start = gblup1$partitions[[1]][1]\n",
        "end = gblup1$partitions[[1]][2]"
      ],
      "metadata": {
        "id": "C2EcN-CJ3HG5"
      },
      "execution_count": null,
      "outputs": []
    },
    {
      "cell_type": "code",
      "source": [
        "## Ci: inverse of the coefficient matrix\n",
        "## from the MME, e.g.:\n",
        "## | X'X X'Z                |\n",
        "## | Z'X Z'Z + G^-1 + alpha |\n",
        "dim(gblup1$Ci) ## mu, population, 140 individuals"
      ],
      "metadata": {
        "id": "dmgahVee90zD"
      },
      "execution_count": null,
      "outputs": []
    },
    {
      "cell_type": "code",
      "source": [
        "## the variance components\n",
        "gblup1$theta"
      ],
      "metadata": {
        "id": "6oGk_b11G3V2"
      },
      "execution_count": null,
      "outputs": []
    },
    {
      "cell_type": "code",
      "source": [
        "head(g)"
      ],
      "metadata": {
        "id": "eTyOUu36Hgmg"
      },
      "execution_count": null,
      "outputs": []
    },
    {
      "cell_type": "code",
      "source": [
        "## Ci is the inverse of the coefficient matrix\n",
        "var.g <- kronecker(K, gblup1$theta[[1]]) - gblup1$Ci[start:end,start:end]"
      ],
      "metadata": {
        "id": "WAuSRE8_9haM"
      },
      "execution_count": null,
      "outputs": []
    },
    {
      "cell_type": "code",
      "source": [
        "dim(var.g)"
      ],
      "metadata": {
        "id": "1EQCcSYkISTa"
      },
      "execution_count": null,
      "outputs": []
    },
    {
      "cell_type": "code",
      "source": [
        "## (m, n) * (n,n) * (n,n) * (n,n) * (n,m)\n",
        "var.a.from.g <- t(X) %*% Kinv %*% (var.g) %*% t(Kinv) %*% X"
      ],
      "metadata": {
        "id": "2CmZ9Hmj-Df5"
      },
      "execution_count": null,
      "outputs": []
    },
    {
      "cell_type": "code",
      "source": [
        "## from (n x n) to (m x m) variance matrix: from each individual to each marker\n",
        "dim(var.a.from.g)"
      ],
      "metadata": {
        "id": "4Hj_sR8Q-KKN"
      },
      "execution_count": null,
      "outputs": []
    },
    {
      "cell_type": "code",
      "source": [
        "## one per SNP\n",
        "se.a.from.g <- sqrt(diag(var.a.from.g))"
      ],
      "metadata": {
        "id": "QWUYrm2Y-foK"
      },
      "execution_count": null,
      "outputs": []
    },
    {
      "cell_type": "markdown",
      "source": [
        "With the standard error of the estimate, we can now calculate the `t statistic` value for each marker:"
      ],
      "metadata": {
        "id": "yIjQKZCwIdMh"
      }
    },
    {
      "cell_type": "code",
      "source": [
        "## one per SNP\n",
        "t.stat.from.g <- a.from.g/se.a.from.g # t-statistic"
      ],
      "metadata": {
        "id": "1e02Mb47-qyn"
      },
      "execution_count": null,
      "outputs": []
    },
    {
      "cell_type": "code",
      "source": [
        "n <- nrow(phenotypes) # to be used for degrees of freedom\n",
        "k <- 1 # to be used for degrees of freedom (number of levels in fixed effects)"
      ],
      "metadata": {
        "id": "itrmGUNlItCD"
      },
      "execution_count": null,
      "outputs": []
    },
    {
      "cell_type": "code",
      "source": [
        "pvalGBLUP <- dt(t.stat.from.g, df=n-k-1) # pvalues"
      ],
      "metadata": {
        "id": "-R5zyimY-739"
      },
      "execution_count": null,
      "outputs": []
    },
    {
      "cell_type": "code",
      "source": [
        "summary(pvalGBLUP)"
      ],
      "metadata": {
        "id": "rCRlX_jO-OJ8"
      },
      "execution_count": null,
      "outputs": []
    },
    {
      "cell_type": "code",
      "source": [
        "snp_names = rownames(a.from.g)\n",
        "snp_effects = as.data.frame(a.from.g)\n",
        "snp_effects$snp = snp_names\n",
        "names(snp_effects)[1] <- \"effect\"\n",
        "snp_effects$pval = pvalGBLUP\n",
        "head(snp_effects)"
      ],
      "metadata": {
        "id": "pH97wqgj-jFF"
      },
      "execution_count": null,
      "outputs": []
    },
    {
      "cell_type": "code",
      "source": [
        "temp <- SNP_INFO |> inner_join(snp_effects, by = \"snp\")\n",
        "temp <- temp |> mutate(log_pval = -log10(pval)) |> select(-effect, -pval)\n",
        "head(temp)"
      ],
      "metadata": {
        "id": "rJVzNjST_S1q"
      },
      "execution_count": null,
      "outputs": []
    },
    {
      "cell_type": "code",
      "source": [
        "options(repr.plot.width=10, repr.plot.height=6)\n",
        "manhattan(temp, pch=20,cex=1.5, PVCN = \"log_pval\")"
      ],
      "metadata": {
        "id": "6FAFfvZD_0O4"
      },
      "execution_count": null,
      "outputs": []
    },
    {
      "cell_type": "markdown",
      "source": [
        "### Multiple-trait"
      ],
      "metadata": {
        "id": "RG8wIzzp5Usu"
      }
    },
    {
      "cell_type": "code",
      "source": [
        "gblup_multi <- mmes( valueS ~ trait + population, # henderson=TRUE,\n",
        "              random=~ vsm(usm(trait), ism(id), Gu=K),\n",
        "              rcov=~ vsm(dsm(trait), ism(units)),\n",
        "              data=pheno$long)"
      ],
      "metadata": {
        "collapsed": true,
        "id": "PaC1dXqPpe5O"
      },
      "execution_count": null,
      "outputs": []
    },
    {
      "cell_type": "code",
      "source": [
        "cov2cor(gblup_multi$theta[[1]])"
      ],
      "metadata": {
        "collapsed": true,
        "id": "WmHFVrZypp2W"
      },
      "execution_count": null,
      "outputs": []
    },
    {
      "cell_type": "code",
      "source": [
        "summary(gblup_multi)$varcomp"
      ],
      "metadata": {
        "collapsed": true,
        "id": "OBqzVvveqP5A"
      },
      "execution_count": null,
      "outputs": []
    },
    {
      "cell_type": "code",
      "source": [
        "## getting the X'(XX')^-1 matrix\n",
        "Kinv <- solve(K + diag(1e-6, ncol(K), ncol(K)))\n",
        "XKinv <- t(X)%*%Kinv"
      ],
      "metadata": {
        "id": "-nsmtXcD1nZ-"
      },
      "execution_count": null,
      "outputs": []
    },
    {
      "cell_type": "code",
      "source": [
        "## individual genetic effects\n",
        "g <- gblup_multi$uList$`vsm(usm(trait), ism(id), Gu = K)`"
      ],
      "metadata": {
        "id": "iwO9FoAYLJjN"
      },
      "execution_count": null,
      "outputs": []
    },
    {
      "cell_type": "markdown",
      "source": [
        "We now have **two sets of genetic values**: one per trait!"
      ],
      "metadata": {
        "id": "5tuwkRZiL0d3"
      }
    },
    {
      "cell_type": "code",
      "source": [
        "head(g)"
      ],
      "metadata": {
        "id": "X-gz7cmBLU4t"
      },
      "execution_count": null,
      "outputs": []
    },
    {
      "cell_type": "code",
      "source": [
        "a.from.g <- XKinv %*% g"
      ],
      "metadata": {
        "id": "ufAvbbX52FaJ"
      },
      "execution_count": null,
      "outputs": []
    },
    {
      "cell_type": "markdown",
      "source": [
        "This brings to **two sets of marker effects**:"
      ],
      "metadata": {
        "id": "YdGaK-HgL5vA"
      }
    },
    {
      "cell_type": "code",
      "source": [
        "dim(a.from.g)"
      ],
      "metadata": {
        "id": "1hDCAGiZLn7m"
      },
      "execution_count": null,
      "outputs": []
    },
    {
      "cell_type": "markdown",
      "source": [
        "#### Trait one: SL (seed length)"
      ],
      "metadata": {
        "id": "nwi2lsKiUc1R"
      }
    },
    {
      "cell_type": "code",
      "source": [
        "## first trait\n",
        "start_1 = gblup_multi$partitions[[1]][1]\n",
        "end_1 = gblup_multi$partitions[[1]][3]"
      ],
      "metadata": {
        "id": "Jn_56W7GMTW8"
      },
      "execution_count": null,
      "outputs": []
    },
    {
      "cell_type": "code",
      "source": [
        "## the variance components: genetic variance and covariance\n",
        "gblup_multi$theta[[1]]"
      ],
      "metadata": {
        "id": "ll1vPg1fQygu"
      },
      "execution_count": null,
      "outputs": []
    },
    {
      "cell_type": "code",
      "source": [
        "## Ci is the inverse of the coefficient matrix\n",
        "var.g <- kronecker(K, gblup_multi$theta[[1]][1]) - gblup_multi$Ci[start_1:end_1,start_1:end_1]"
      ],
      "metadata": {
        "id": "tbOR-Of7THrN"
      },
      "execution_count": null,
      "outputs": []
    },
    {
      "cell_type": "code",
      "source": [
        "## t statistic\n",
        "var.a.from.g <- t(X) %*% Kinv %*% (var.g) %*% t(Kinv) %*% X ## variance of marker effects\n",
        "se.a.from.g <- sqrt(diag(var.a.from.g))  ## standard error of the estimates\n",
        "t.stat.from.g <- a.from.g[,1]/se.a.from.g # t-statistic"
      ],
      "metadata": {
        "id": "sDHwDsHrUBUI"
      },
      "execution_count": null,
      "outputs": []
    },
    {
      "cell_type": "code",
      "source": [
        "n <- nrow(phenotypes) # to be used for degrees of freedom\n",
        "k <- 1 # to be used for degrees of freedom (number of levels in fixed effects)\n",
        "pval_1 <- dt(t.stat.from.g, df=n-k-1) # pvalues"
      ],
      "metadata": {
        "id": "9mc_u1kqUWew"
      },
      "execution_count": null,
      "outputs": []
    },
    {
      "cell_type": "code",
      "source": [
        "pval_1"
      ],
      "metadata": {
        "id": "N00iF1vQdscM"
      },
      "execution_count": null,
      "outputs": []
    },
    {
      "cell_type": "markdown",
      "source": [
        "#### Trait two: SW (seed width)"
      ],
      "metadata": {
        "id": "B4YeYJecaRcb"
      }
    },
    {
      "cell_type": "code",
      "source": [
        "## second trait\n",
        "start_2 = gblup_multi$partitions[[1]][2]\n",
        "end_2 = gblup_multi$partitions[[1]][4]\n",
        "\n",
        "## choose the corresponding genetic variance; Ci is the inverse of the coefficient matrix\n",
        "var.g <- kronecker(K, gblup_multi$theta[[1]][4]) - gblup_multi$Ci[start_2:end_2,start_2:end_2]"
      ],
      "metadata": {
        "id": "C8KXbCNQaUTy"
      },
      "execution_count": null,
      "outputs": []
    },
    {
      "cell_type": "code",
      "source": [
        "## t statistic\n",
        "var.a.from.g <- t(X) %*% Kinv %*% (var.g) %*% t(Kinv) %*% X ## variance of marker effects\n",
        "se.a.from.g <- sqrt(diag(var.a.from.g))  ## standard error of the estimates\n",
        "t.stat.from.g <- a.from.g/se.a.from.g # t-statistic"
      ],
      "metadata": {
        "id": "3JvzHM8va93F"
      },
      "execution_count": null,
      "outputs": []
    },
    {
      "cell_type": "code",
      "source": [
        "n <- nrow(phenotypes) # to be used for degrees of freedom\n",
        "k <- 1 # to be used for degrees of freedom (number of levels in fixed effects)\n",
        "pval_2 <- dt(t.stat.from.g, df=n-k-1) # pvalues"
      ],
      "metadata": {
        "id": "PPXSQ3aPbAtn"
      },
      "execution_count": null,
      "outputs": []
    }
  ]
}